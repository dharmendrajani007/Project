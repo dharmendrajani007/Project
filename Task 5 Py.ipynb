{
  "nbformat": 4,
  "nbformat_minor": 0,
  "metadata": {
    "colab": {
      "provenance": []
    },
    "kernelspec": {
      "name": "python3",
      "display_name": "Python 3"
    },
    "language_info": {
      "name": "python"
    }
  },
  "cells": [
    {
      "cell_type": "code",
      "execution_count": 4,
      "metadata": {
        "colab": {
          "base_uri": "https://localhost:8080/"
        },
        "id": "urZdoIou7ef1",
        "outputId": "ab1a9e22-54df-4562-8726-bb5fc2e5f2e1"
      },
      "outputs": [
        {
          "output_type": "stream",
          "name": "stdout",
          "text": [
            "What is the capital of France?\n",
            "Your answer: paris\n",
            "Correct!\n",
            "\n",
            "Which planet is known as the Red Planet?\n",
            "Your answer: mars\n",
            "Correct!\n",
            "\n",
            "Who is prime minister of india?\n",
            "Your answer: narendra modi\n",
            "Correct!\n",
            "\n",
            "You got 3/3 questions correct.\n",
            "Do you want to play again? (yes/no): yes\n",
            "What is the capital of France?\n",
            "Your answer: krishna\n",
            "Incorrect. The correct answer is: Paris\n",
            "\n",
            "Which planet is known as the Red Planet?\n",
            "Your answer: raju rastogi\n",
            "Incorrect. The correct answer is: Mars\n",
            "\n",
            "Who is prime minister of india?\n",
            "Your answer: Narendra Modi\n",
            "Correct!\n",
            "\n",
            "You got 1/3 questions correct.\n",
            "Do you want to play again? (yes/no): no\n",
            "Thanks for playing!\n"
          ]
        }
      ],
      "source": [
        "# Define a list of tuples where each tuple contains a question and its corresponding answer\n",
        "questions = [\n",
        "    (\"What is the capital of France?\", \"Paris\"),\n",
        "    (\"Which planet is known as the Red Planet?\", \"Mars\"),\n",
        "    (\"Who is prime minister of india?\", \"Narendra Modi\")\n",
        "]\n",
        "\n",
        "def run_quiz(questions):\n",
        "    score = 0\n",
        "    for question, correct_answer in questions:\n",
        "        user_answer = input(question + \"\\nYour answer: \")\n",
        "        if user_answer.lower() == correct_answer.lower():\n",
        "            print(\"Correct!\\n\")\n",
        "            score += 1\n",
        "        else:\n",
        "            print(\"Incorrect. The correct answer is: \" + correct_answer + \"\\n\")\n",
        "\n",
        "    print(\"You got \" + str(score) + \"/\" + str(len(questions)) + \" questions correct.\")\n",
        "    return score\n",
        "\n",
        "def play_again():\n",
        "    while True:\n",
        "        response = input(\"Do you want to play again? (yes/no): \").lower()\n",
        "        if response == \"yes\":\n",
        "            score = run_quiz(questions)\n",
        "        elif response == \"no\":\n",
        "            print(\"Thanks for playing!\")\n",
        "            break\n",
        "        else:\n",
        "            print(\"Please enter 'yes' or 'no'.\")\n",
        "\n",
        "run_quiz(questions)  # Initial quiz\n",
        "play_again()  # Ask to play again\n"
      ]
    }
  ]
}