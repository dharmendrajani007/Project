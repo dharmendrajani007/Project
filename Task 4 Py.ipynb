{
  "nbformat": 4,
  "nbformat_minor": 0,
  "metadata": {
    "colab": {
      "provenance": []
    },
    "kernelspec": {
      "name": "python3",
      "display_name": "Python 3"
    },
    "language_info": {
      "name": "python"
    }
  },
  "cells": [
    {
      "cell_type": "code",
      "execution_count": 5,
      "metadata": {
        "colab": {
          "base_uri": "https://localhost:8080/"
        },
        "id": "d2XPQ6Mw4TT6",
        "outputId": "11b35dac-57ec-44c9-839c-c56454b539d2"
      },
      "outputs": [
        {
          "output_type": "stream",
          "name": "stdout",
          "text": [
            "Enter city name or zipcode: data\n",
            "City not found. Please check the city name or try again.\n"
          ]
        }
      ],
      "source": [
        "import requests\n",
        "\n",
        "def get_weather_forecast(location, api_key):\n",
        "    base_url = \"http://api.openweathermap.org/data/2.5/forecast\"\n",
        "    params = {\n",
        "        \"q\": location,\n",
        "        \"appid\": api_key,\n",
        "        \"units\": \"metric\"  # You can change this to imperial for Fahrenheit\n",
        "    }\n",
        "\n",
        "    response = requests.get(base_url, params=params)\n",
        "    data = response.json()\n",
        "\n",
        "    if data[\"cod\"] == \"200\":\n",
        "        city = data[\"city\"][\"name\"]\n",
        "        print(f\"Weather forecast for {city}:\")\n",
        "        for forecast in data[\"list\"]:\n",
        "            date_time = forecast[\"dt_txt\"]\n",
        "            temperature = forecast[\"main\"][\"temp\"]\n",
        "            weather_description = forecast[\"weather\"][0][\"description\"]\n",
        "            print(f\"DateTime: {date_time}, Temperature: {temperature}°C, Description: {weather_description}\")\n",
        "    else:\n",
        "        print(\"City not found. Please check the city name or try again.\")\n",
        "\n",
        "def main():\n",
        "    api_key = 'your_api_key'  # Add your OpenWeatherMap API key\n",
        "    location = input(\"Enter city name or zipcode: \")\n",
        "    get_weather_forecast(location, api_key)\n",
        "\n",
        "if __name__ == \"__main__\":\n",
        "    main()\n"
      ]
    }
  ]
}