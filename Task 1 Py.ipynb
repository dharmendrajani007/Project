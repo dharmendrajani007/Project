{
  "nbformat": 4,
  "nbformat_minor": 0,
  "metadata": {
    "colab": {
      "provenance": [],
      "toc_visible": true
    },
    "kernelspec": {
      "name": "python3",
      "display_name": "Python 3"
    },
    "language_info": {
      "name": "python"
    }
  },
  "cells": [
    {
      "cell_type": "code",
      "execution_count": 43,
      "metadata": {
        "id": "Lr_C133vT1C4",
        "colab": {
          "base_uri": "https://localhost:8080/"
        },
        "outputId": "8bec51fd-7369-4d39-a83e-7e76d1a8f883"
      },
      "outputs": [
        {
          "output_type": "stream",
          "name": "stdout",
          "text": [
            "\n",
            "Choose an option:\n",
            "1. Show to-do list\n",
            "2. Add task\n",
            "3. Remove task\n",
            "4. Exit\n",
            "Enter the number of your choice: exercise\n",
            "Invalid choice. Please enter a valid number.\n",
            "\n",
            "Choose an option:\n",
            "1. Show to-do list\n",
            "2. Add task\n",
            "3. Remove task\n",
            "4. Exit\n",
            "Enter the number of your choice: 4\n",
            "Exiting......\n"
          ]
        }
      ],
      "source": [
        "# Function to display the to-do list\n",
        "def show_list(todo_list):\n",
        "    if not todo_list:\n",
        "        print(\"Your to-do list is empty!\")\n",
        "    else:\n",
        "        print(\"Your To-Do List:\")\n",
        "        for index, task in enumerate(todo_list, start=1):\n",
        "            print(f\"{index}. {task}\")\n",
        "\n",
        "# Function to add a task to the to-do list\n",
        "def add_task(todo_list, task):\n",
        "    todo_list.append(task)\n",
        "    print(f\"Added '{task}' to your to-do list.\")\n",
        "\n",
        "# Function to remove a task from the to-do list\n",
        "def remove_task(todo_list, index):\n",
        "    if 1 <= index <= len(todo_list):\n",
        "        task = todo_list.pop(index - 1)\n",
        "        print(f\"Removed '{task}' from your to-do list.\")\n",
        "    else:\n",
        "        print(\"Invalid task number. Please enter a valid number.\")\n",
        "\n",
        "def main():\n",
        "    todo_list = []\n",
        "\n",
        "    while True:\n",
        "        print(\"\\nChoose an option:\")\n",
        "        print(\"1. Show to-do list\")\n",
        "        print(\"2. Add task\")\n",
        "        print(\"3. Remove task\")\n",
        "        print(\"4. Exit\")\n",
        "\n",
        "        choice = input(\"Enter the number of your choice: \")\n",
        "\n",
        "        if choice == \"1\":\n",
        "            show_list(todo_list)\n",
        "        elif choice == \"2\":\n",
        "            task = input(\"Enter the task to add: \")\n",
        "            add_task(todo_list, task)\n",
        "        elif choice == \"3\":\n",
        "            show_list(todo_list)\n",
        "            task_index = int(input(\"Enter the task number to remove: \"))\n",
        "            remove_task(todo_list, task_index)\n",
        "        elif choice == \"4\":\n",
        "            print(\"Exiting......\")\n",
        "            break\n",
        "        else:\n",
        "            print(\"Invalid choice. Please enter a valid number.\")\n",
        "\n",
        "if __name__ == \"__main__\":\n",
        "    main()\n"
      ]
    },
    {
      "cell_type": "code",
      "source": [],
      "metadata": {
        "id": "vvcgprtMh-sF"
      },
      "execution_count": null,
      "outputs": []
    }
  ]
}