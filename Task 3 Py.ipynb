{
  "nbformat": 4,
  "nbformat_minor": 0,
  "metadata": {
    "colab": {
      "provenance": []
    },
    "kernelspec": {
      "name": "python3",
      "display_name": "Python 3"
    },
    "language_info": {
      "name": "python"
    }
  },
  "cells": [
    {
      "cell_type": "code",
      "execution_count": 14,
      "metadata": {
        "id": "kKGevuk9y8W2",
        "colab": {
          "base_uri": "https://localhost:8080/"
        },
        "outputId": "a7dda996-6511-4c34-b443-201e3baff5e5"
      },
      "outputs": [
        {
          "output_type": "stream",
          "name": "stdout",
          "text": [
            "Enter the length of the password: Krish\n",
            "Please enter a valid number.\n",
            "Enter the length of the password: -2\n",
            "Please enter a positive length.\n",
            "Enter the length of the password: 10\n",
            "Generated Password: 8Y9A~(lR4I\n"
          ]
        }
      ],
      "source": [
        "import random\n",
        "import string\n",
        "\n",
        "def generate_password(length):\n",
        "    characters = string.ascii_letters + string.digits + string.punctuation\n",
        "    password = ''.join(random.choice(characters) for i in range(length))\n",
        "    return password\n",
        "\n",
        "def get_password_length():\n",
        "    while True:\n",
        "        try:\n",
        "            length = int(input(\"Enter the length of the password: \"))\n",
        "            if length <= 0:\n",
        "                print(\"Please enter a positive length.\")\n",
        "            else:\n",
        "                return length\n",
        "        except ValueError:\n",
        "            print(\"Please enter a valid number.\")\n",
        "\n",
        "# Get user input for password length\n",
        "password_length = get_password_length()\n",
        "\n",
        "# Generate a password of the given length\n",
        "generated_password = generate_password(password_length)\n",
        "print(\"Generated Password:\", generated_password)\n",
        "\n"
      ]
    }
  ]
}